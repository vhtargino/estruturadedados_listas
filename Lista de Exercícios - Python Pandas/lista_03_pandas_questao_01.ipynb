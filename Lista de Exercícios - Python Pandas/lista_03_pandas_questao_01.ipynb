{
 "cells": [
  {
   "cell_type": "code",
   "execution_count": null,
   "metadata": {},
   "outputs": [],
   "source": [
    "import pandas as pd"
   ]
  },
  {
   "cell_type": "code",
   "execution_count": null,
   "metadata": {},
   "outputs": [],
   "source": [
    "df = pd.read_csv(\"carro.csv\", sep=\",\", encoding=\"CP850\")"
   ]
  },
  {
   "cell_type": "code",
   "execution_count": null,
   "metadata": {},
   "outputs": [],
   "source": [
    "# a) Quantos carros estão cadastrados?\n",
    "len(df)"
   ]
  },
  {
   "cell_type": "code",
   "execution_count": null,
   "metadata": {},
   "outputs": [],
   "source": [
    "# b) Quais os combustíveis cadastrados?\n",
    "df['Combustivel'].unique()"
   ]
  },
  {
   "cell_type": "code",
   "execution_count": null,
   "metadata": {},
   "outputs": [],
   "source": [
    "# c) Quais as cores cadastradas?\n",
    "df['Cor'].unique()"
   ]
  },
  {
   "cell_type": "code",
   "execution_count": null,
   "metadata": {},
   "outputs": [],
   "source": [
    "# d) Qual o ano de fabricação mais antigo?\n",
    "df['AnoFab'].min()"
   ]
  },
  {
   "cell_type": "code",
   "execution_count": null,
   "metadata": {},
   "outputs": [],
   "source": [
    "# e) Qual o ano de fabricação mais novo?\n",
    "df['AnoFab'].max()"
   ]
  },
  {
   "cell_type": "code",
   "execution_count": null,
   "metadata": {},
   "outputs": [],
   "source": [
    "# f) Qual a quantidade de carro por ano de fabricação?\n",
    "df['AnoFab'].value_counts()"
   ]
  },
  {
   "cell_type": "code",
   "execution_count": null,
   "metadata": {},
   "outputs": [],
   "source": [
    "# g) Qual a quantidade de carro por cor?\n",
    "df['Cor'].value_counts()"
   ]
  },
  {
   "cell_type": "code",
   "execution_count": null,
   "metadata": {},
   "outputs": [],
   "source": [
    "# h) Quais os \"idinstrutor\" que estão cadastrados com os carros da Marca Honda?\n",
    "df[df['Marca'] == 'HONDA']['idinstrutor'].unique()"
   ]
  },
  {
   "cell_type": "code",
   "execution_count": null,
   "metadata": {},
   "outputs": [],
   "source": [
    "# i) Qual a marca que apresenta mais carros cadastrados?\n",
    "df['Marca'].value_counts().idxmax()"
   ]
  },
  {
   "cell_type": "code",
   "execution_count": null,
   "metadata": {},
   "outputs": [],
   "source": [
    "# j) Qual o combustível que apresenta mais carros cadastrados?\n",
    "df['Combustivel'].value_counts().idxmax()"
   ]
  },
  {
   "cell_type": "code",
   "execution_count": null,
   "metadata": {},
   "outputs": [],
   "source": [
    "# k) Quais os carros que estão cadastrados com combustível Diesel?\n",
    "df[df['Combustivel'] == 'Diesel']['Veiculo']"
   ]
  },
  {
   "cell_type": "code",
   "execution_count": null,
   "metadata": {},
   "outputs": [],
   "source": [
    "# l) Quantos carros estão em situação \"0\"? O campo situação só contém valores 1 ou 0.\n",
    "len(df[df['Situacao'] == 0])"
   ]
  },
  {
   "cell_type": "code",
   "execution_count": null,
   "metadata": {},
   "outputs": [],
   "source": [
    "# m) Quantos carros estão cadastrados com o ano de fabricação igual a 2005?\n",
    "len(df[df['AnoFab'] == 2005])"
   ]
  },
  {
   "cell_type": "code",
   "execution_count": null,
   "metadata": {},
   "outputs": [],
   "source": [
    "# n) Quais os carros com o ano de fabricação igual a 2004?\n",
    "df[df['AnoFab'] == 2004]['Veiculo']"
   ]
  },
  {
   "cell_type": "code",
   "execution_count": null,
   "metadata": {},
   "outputs": [],
   "source": [
    "# o) Qual o veículo com maior ocorrência nos dados?\n",
    "df['Veiculo'].value_counts().idxmax()"
   ]
  },
  {
   "cell_type": "code",
   "execution_count": null,
   "metadata": {},
   "outputs": [],
   "source": [
    "# p) Quais os tipos de categorias cadastrados?\n",
    "df['Categoria'].unique()"
   ]
  },
  {
   "cell_type": "code",
   "execution_count": null,
   "metadata": {},
   "outputs": [],
   "source": [
    "# q) Qual o código do instrutor com maior ocorrência?\n",
    "df['idinstrutor'].value_counts().idxmax()"
   ]
  },
  {
   "cell_type": "code",
   "execution_count": null,
   "metadata": {},
   "outputs": [],
   "source": [
    "# r) Quais os carros da cor Verde?\n",
    "df[df['Cor'] == 'VERDE']['Veiculo']"
   ]
  },
  {
   "cell_type": "code",
   "execution_count": null,
   "metadata": {},
   "outputs": [],
   "source": [
    "# s) Quais as cores dos carros do modelo “CELTA”?\n",
    "df[df['Modelo'] == 'CELTA']['Cor'].unique()"
   ]
  },
  {
   "cell_type": "code",
   "execution_count": null,
   "metadata": {},
   "outputs": [],
   "source": [
    "# t) Quais os anos de fabricação dos carros de modelo “CELTA”?\n",
    "df[df['Modelo'] == 'CELTA']['AnoFab'].unique()"
   ]
  }
 ],
 "metadata": {
  "kernelspec": {
   "display_name": "Python 3",
   "language": "python",
   "name": "python3"
  },
  "language_info": {
   "codemirror_mode": {
    "name": "ipython",
    "version": 3
   },
   "file_extension": ".py",
   "mimetype": "text/x-python",
   "name": "python",
   "nbconvert_exporter": "python",
   "pygments_lexer": "ipython3",
   "version": "3.11.2"
  },
  "orig_nbformat": 4
 },
 "nbformat": 4,
 "nbformat_minor": 2
}
