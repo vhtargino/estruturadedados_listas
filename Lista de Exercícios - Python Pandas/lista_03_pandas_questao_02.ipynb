{
 "cells": [
  {
   "cell_type": "code",
   "execution_count": null,
   "metadata": {},
   "outputs": [],
   "source": [
    "import pandas as pd"
   ]
  },
  {
   "cell_type": "code",
   "execution_count": null,
   "metadata": {},
   "outputs": [],
   "source": [
    "df = pd.read_csv(\"conserto.csv\", sep=\";\", encoding=\"ISO-8859-1\")"
   ]
  },
  {
   "cell_type": "code",
   "execution_count": null,
   "metadata": {},
   "outputs": [],
   "source": [
    "# a) Quantas linhas tem o arquivo de conserto.csv?\n",
    "len(df)"
   ]
  },
  {
   "cell_type": "code",
   "execution_count": null,
   "metadata": {},
   "outputs": [],
   "source": [
    "# b) Encontre os 10 mecânicos com maior ocorrência\n",
    "df['Mecanico'].value_counts().head(10)"
   ]
  },
  {
   "cell_type": "code",
   "execution_count": null,
   "metadata": {},
   "outputs": [],
   "source": [
    "# c) Encontre o mecânico com maior ocorrência no ano de 2006\n",
    "df['DataSaida'] = pd.to_datetime(df['DataSaida'])\n",
    "df[df['DataSaida'].dt.year == 2006]['Mecanico'].value_counts().idxmax()"
   ]
  },
  {
   "cell_type": "code",
   "execution_count": null,
   "metadata": {},
   "outputs": [],
   "source": [
    "# d) Quais os 10 serviços mais realizados?\n",
    "df['Servico'].value_counts().head(10)"
   ]
  },
  {
   "cell_type": "code",
   "execution_count": null,
   "metadata": {},
   "outputs": [],
   "source": [
    "# e) Quais os 5 serviços mais realizados no ano de 2006 com base na Data de Saída?\n",
    "df[df['DataSaida'].dt.year == 2006]['Servico'].value_counts().head(5)"
   ]
  },
  {
   "cell_type": "code",
   "execution_count": null,
   "metadata": {},
   "outputs": [],
   "source": [
    "# f) Qual foi o mês com maior ocorrência de registros no ano de 2006 com base na Data de Saída?\n",
    "df[df['DataSaida'].dt.year == 2006]['DataSaida'].dt.month.value_counts().idxmax()"
   ]
  },
  {
   "cell_type": "code",
   "execution_count": null,
   "metadata": {},
   "outputs": [],
   "source": [
    "# g) Qual foi a média por mês dos valores pagos no ano de 2005 com base na Data de Saída?\n",
    "df['DataSaida'] = pd.to_datetime(df['DataSaida'])\n",
    "df[df['DataSaida'].dt.year == 2005].groupby(df['DataSaida'].dt.month)['ValorServico'].mean()"
   ]
  },
  {
   "cell_type": "code",
   "execution_count": null,
   "metadata": {},
   "outputs": [],
   "source": [
    "# h) Qual foi a oficina com maior ocorrência de carro?\n",
    "df['Oficina'].value_counts().idxmax()"
   ]
  },
  {
   "cell_type": "code",
   "execution_count": null,
   "metadata": {},
   "outputs": [],
   "source": [
    "# i) Quanto foi faturado pela oficina ‘MECANICA UCHOA’?\n",
    "df[df['Oficina'] == 'MECANICA UCHOA']['ValorServico'].sum()"
   ]
  },
  {
   "cell_type": "code",
   "execution_count": null,
   "metadata": {},
   "outputs": [],
   "source": [
    "# j) Quais os anos que estão presentes no arquivo com base na data de saída?\n",
    "df['DataSaida'].dt.year.dropna().unique()"
   ]
  },
  {
   "cell_type": "code",
   "execution_count": null,
   "metadata": {},
   "outputs": [],
   "source": [
    "# k) Qual foi o mês com maior ocorrência de registros com base na data de saída no ano de 2004?\n",
    "df[df['DataSaida'].dt.year == 2004]['DataSaida'].dt.month.value_counts().idxmax()"
   ]
  },
  {
   "cell_type": "code",
   "execution_count": null,
   "metadata": {},
   "outputs": [],
   "source": [
    "# l) Qual foi o faturamento por mês com base na data de saída do ano de 2004?\n",
    "df[df['DataSaida'].dt.year == 2004].groupby(df['DataSaida'].dt.month)['ValorServico'].sum()"
   ]
  },
  {
   "cell_type": "code",
   "execution_count": null,
   "metadata": {},
   "outputs": [],
   "source": [
    "# m) Quanto foi faturado por mês pela oficina ‘OFICINA NOSSA SENHORA DA PENHA’ no ano de 2004?\n",
    "df[(df['Oficina'] == 'OFICINA NOSSA SENHORA DA PENHA') & (df['DataSaida'].dt.year == 2004)].groupby(df['DataSaida'].dt.month)['ValorServico'].sum()"
   ]
  },
  {
   "cell_type": "code",
   "execution_count": null,
   "metadata": {},
   "outputs": [],
   "source": [
    "# n) Quem é o responsável com maior ocorrência em 2006 com base na data de saída?\n",
    "df[df['DataSaida'].dt.year == 2006]['Responsavel'].value_counts().idxmax()"
   ]
  },
  {
   "cell_type": "code",
   "execution_count": null,
   "metadata": {},
   "outputs": [],
   "source": [
    "# o) Quem são os mecânicos da oficina ‘OFICINA NOSSA SENHORA DA PENHA’?\n",
    "df[df['Oficina'] == 'OFICINA NOSSA SENHORA DA PENHA']['Mecanico'].unique()"
   ]
  },
  {
   "cell_type": "code",
   "execution_count": null,
   "metadata": {},
   "outputs": [],
   "source": [
    "# p) Qual foi os valores pagos pelos serviços realizados pelo Mecânico Toinho e Piloto?\n",
    "df[df['Mecanico'].isin(['Toinho', 'piloto'])]['ValorServico'].sum()"
   ]
  },
  {
   "cell_type": "code",
   "execution_count": null,
   "metadata": {},
   "outputs": [],
   "source": [
    "# q) Qual foi os valores pagos pelos serviços realizados pelo Mecânico Toinho e piloto no ano de 2006 com base na data de saída?\n",
    "df[(df['Mecanico'].isin(['Toinho', 'piloto'])) & (df['DataSaida'].dt.year == 2006)]['ValorServico'].sum()"
   ]
  },
  {
   "cell_type": "code",
   "execution_count": null,
   "metadata": {},
   "outputs": [],
   "source": [
    "# r) Quais os mecânicos que realizaram o serviço de “Troca de Pneus”?\n",
    "df[df['Servico'] == 'Troca de Pneus']['Mecanico'].unique()"
   ]
  },
  {
   "cell_type": "code",
   "execution_count": null,
   "metadata": {},
   "outputs": [],
   "source": [
    "# s) Quais os 10 serviços realizados pelo mecânico piloto?\n",
    "df[df['Mecanico'] == 'piloto']['Servico'].value_counts().head(10)"
   ]
  },
  {
   "cell_type": "code",
   "execution_count": null,
   "metadata": {},
   "outputs": [],
   "source": [
    "# t) Quais os mecânicos que realizaram serviço pela oficina “WCAR PEÇAS E SERVIÇOS”?\n",
    "df[df['Oficina'] == 'WCAR PEÇAS E SERVIÇOS']['Mecanico'].unique()"
   ]
  }
 ],
 "metadata": {
  "kernelspec": {
   "display_name": "Python 3",
   "language": "python",
   "name": "python3"
  },
  "language_info": {
   "codemirror_mode": {
    "name": "ipython",
    "version": 3
   },
   "file_extension": ".py",
   "mimetype": "text/x-python",
   "name": "python",
   "nbconvert_exporter": "python",
   "pygments_lexer": "ipython3",
   "version": "3.11.2"
  },
  "orig_nbformat": 4
 },
 "nbformat": 4,
 "nbformat_minor": 2
}
